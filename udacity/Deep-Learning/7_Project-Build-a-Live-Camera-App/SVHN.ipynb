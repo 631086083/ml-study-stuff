{
 "cells": [
  {
   "cell_type": "markdown",
   "metadata": {},
   "source": [
    "## Prepare Dataset"
   ]
  },
  {
   "cell_type": "code",
   "execution_count": 18,
   "metadata": {},
   "outputs": [],
   "source": [
    "import h5py\n",
    "import numpy as np"
   ]
  },
  {
   "cell_type": "code",
   "execution_count": 2,
   "metadata": {},
   "outputs": [],
   "source": [
    "train_dataset = h5py.File(\"train/digitStruct.mat\", \"r\")\n",
    "test_dataset = h5py.File(\"test/digitStruct.mat\", \"r\")"
   ]
  },
  {
   "cell_type": "code",
   "execution_count": 3,
   "metadata": {},
   "outputs": [
    {
     "data": {
      "text/plain": [
       "KeysView(<HDF5 file \"digitStruct.mat\" (mode r)>)"
      ]
     },
     "execution_count": 3,
     "metadata": {},
     "output_type": "execute_result"
    }
   ],
   "source": [
    "train_dataset.keys()"
   ]
  },
  {
   "cell_type": "code",
   "execution_count": 4,
   "metadata": {},
   "outputs": [
    {
     "name": "stdout",
     "output_type": "stream",
     "text": [
      "bbox\n",
      "<HDF5 dataset \"bbox\": shape (33402, 1), type \"|O\">\n",
      "name\n",
      "<HDF5 dataset \"name\": shape (33402, 1), type \"|O\">\n"
     ]
    }
   ],
   "source": [
    "# there are 33402 training examples\n",
    "for key in train_dataset[\"digitStruct\"].keys():\n",
    "    print(key)\n",
    "    print(train_dataset[\"digitStruct\"][key])  "
   ]
  },
  {
   "cell_type": "code",
   "execution_count": 5,
   "metadata": {},
   "outputs": [],
   "source": [
    "def getName(dataset, index):\n",
    "    names = dataset[\"digitStruct\"][\"name\"]\n",
    "    return ''.join([chr(c[0]) for c in dataset[names[index][0]].value])"
   ]
  },
  {
   "cell_type": "code",
   "execution_count": 6,
   "metadata": {},
   "outputs": [
    {
     "data": {
      "text/plain": [
       "'33402.png'"
      ]
     },
     "execution_count": 6,
     "metadata": {},
     "output_type": "execute_result"
    }
   ],
   "source": [
    "getName(train_dataset, 33401)"
   ]
  },
  {
   "cell_type": "code",
   "execution_count": 7,
   "metadata": {},
   "outputs": [
    {
     "data": {
      "image/png": "[encoded data removed]",
      "text/plain": [
       "<PIL.PngImagePlugin.PngImageFile image mode=RGB size=120x51 at 0x7F163C556A90>"
      ]
     },
     "execution_count": 7,
     "metadata": {},
     "output_type": "execute_result"
    }
   ],
   "source": [
    "from PIL import Image\n",
    "\n",
    "Image.open(\"train/\" + getName(train_dataset, 33400))"
   ]
  },
  {
   "cell_type": "code",
   "execution_count": 8,
   "metadata": {},
   "outputs": [],
   "source": [
    "def bboxHelper(dataset, attr):\n",
    "    if (len(attr) > 1):\n",
    "        attr = [dataset[attr.value[j].item()].value[0][0] for j in range(len(attr))]\n",
    "    else:\n",
    "        attr = [attr.value[0][0]]\n",
    "        \n",
    "    return attr\n",
    "\n",
    "def getBbox(dataset, index):\n",
    "    item = dataset[dataset[\"digitStruct\"][\"bbox\"][index].item()]\n",
    "    \n",
    "    return {\n",
    "        \"height\": bboxHelper(dataset, item[\"height\"]),\n",
    "        \"label\": bboxHelper(dataset, item[\"label\"]),\n",
    "        \"left\": bboxHelper(dataset, item[\"left\"]),\n",
    "        \"top\": bboxHelper(dataset, item[\"top\"]),\n",
    "        \"width\": bboxHelper(dataset, item[\"width\"]),\n",
    "    }"
   ]
  },
  {
   "cell_type": "code",
   "execution_count": 9,
   "metadata": {},
   "outputs": [
    {
     "data": {
      "text/plain": [
       "{'height': [40.0, 40.0],\n",
       " 'label': [2.0, 2.0],\n",
       " 'left': [34.0, 61.0],\n",
       " 'top': [6.0, 4.0],\n",
       " 'width': [25.0, 25.0]}"
      ]
     },
     "execution_count": 9,
     "metadata": {},
     "output_type": "execute_result"
    }
   ],
   "source": [
    "getBbox(train_dataset, 33400)  # every digit has a box"
   ]
  },
  {
   "cell_type": "code",
   "execution_count": 10,
   "metadata": {},
   "outputs": [],
   "source": [
    "def getWholeBox(dataset, index, im):\n",
    "    bbox = getBbox(dataset, index)\n",
    "    \n",
    "    im_left = min(bbox[\"left\"])\n",
    "    im_top = min(bbox[\"top\"])\n",
    "    im_height = max(bbox[\"top\"]) + max(bbox[\"height\"]) - im_top\n",
    "    im_width = max(bbox[\"left\"]) + max(bbox[\"width\"]) - im_left\n",
    "    \n",
    "    im_top = im_top - im_height * 0.05 # a bit higher\n",
    "    im_left = im_left - im_width * 0.05 # a bit wider\n",
    "    im_bottom = min(im.size[1], im_top + im_height * 1.05)\n",
    "    im_right = min(im.size[0], im_left + im_width * 1.05)\n",
    "    \n",
    "    return {\n",
    "        \"label\": bbox[\"label\"],\n",
    "        \"left\": im_left,\n",
    "        \"top\": im_top,\n",
    "        \"right\": im_right,\n",
    "        \"bottom\": im_bottom\n",
    "    }"
   ]
  },
  {
   "cell_type": "code",
   "execution_count": 15,
   "metadata": {},
   "outputs": [
    {
     "data": {
      "text/plain": [
       "{'label': [1.0, 9.0],\n",
       " 'left': 237.35,\n",
       " 'top': 65.85,\n",
       " 'right': 419.0,\n",
       " 'bottom': 300.0}"
      ]
     },
     "execution_count": 15,
     "metadata": {},
     "output_type": "execute_result"
    }
   ],
   "source": [
    "im = Image.open(\"train/\" + getName(train_dataset, 0))\n",
    "getWholeBox(train_dataset, 0, im)"
   ]
  },
  {
   "cell_type": "code",
   "execution_count": 17,
   "metadata": {},
   "outputs": [
    {
     "data": {
      "image/png": "[encoded data removed]",
      "text/plain": [
       "<PIL.Image.Image image mode=RGB size=64x64 at 0x7F163A4420B8>"
      ]
     },
     "execution_count": 17,
     "metadata": {},
     "output_type": "execute_result"
    }
   ],
   "source": [
    "box = getWholeBox(train_dataset, 0, im)\n",
    "\n",
    "im = im.crop((box[\"left\"], box[\"top\"], box[\"right\"], box[\"bottom\"]))\n",
    "im.resize((64, 64))"
   ]
  },
  {
   "cell_type": "code",
   "execution_count": 19,
   "metadata": {},
   "outputs": [
    {
     "name": "stdout",
     "output_type": "stream",
     "text": [
      "0 33402\n",
      "500 33402\n",
      "1000 33402\n",
      "1500 33402\n",
      "2000 33402\n",
      "2500 33402\n",
      "3000 33402\n",
      "3500 33402\n",
      "4000 33402\n",
      "4500 33402\n",
      "5000 33402\n",
      "5500 33402\n",
      "6000 33402\n",
      "6500 33402\n",
      "7000 33402\n",
      "7500 33402\n",
      "8000 33402\n",
      "8500 33402\n",
      "9000 33402\n",
      "9500 33402\n",
      "10000 33402\n",
      "10500 33402\n",
      "11000 33402\n",
      "11500 33402\n",
      "12000 33402\n",
      "12500 33402\n",
      "13000 33402\n",
      "13500 33402\n",
      "14000 33402\n",
      "14500 33402\n",
      "15000 33402\n",
      "15500 33402\n",
      "16000 33402\n",
      "16500 33402\n",
      "17000 33402\n",
      "17500 33402\n",
      "18000 33402\n",
      "18500 33402\n",
      "19000 33402\n",
      "19500 33402\n",
      "20000 33402\n",
      "20500 33402\n",
      "21000 33402\n",
      "21500 33402\n",
      "22000 33402\n",
      "22500 33402\n",
      "23000 33402\n",
      "23500 33402\n",
      "24000 33402\n",
      "24500 33402\n",
      "25000 33402\n",
      "25500 33402\n",
      "26000 33402\n",
      "26500 33402\n",
      "27000 33402\n",
      "27500 33402\n",
      "28000 33402\n",
      "28500 33402\n",
      "29000 33402\n",
      "29500 33402\n",
      "30000 33402\n",
      "30500 33402\n",
      "31000 33402\n",
      "31500 33402\n",
      "32000 33402\n",
      "32500 33402\n",
      "33000 33402\n"
     ]
    }
   ],
   "source": [
    "# Load Train Data\n",
    "train_count = train_dataset[\"digitStruct\"][\"name\"].shape[0]\n",
    "\n",
    "X_train = np.ndarray(shape=(train_count, 64, 64, 3), dtype='float32')\n",
    "y = {\n",
    "    0: np.zeros(train_count),\n",
    "    1: np.ones(train_count) * 10,\n",
    "    2: np.ones(train_count) * 10,\n",
    "    3: np.ones(train_count) * 10,\n",
    "    4: np.ones(train_count) * 10,\n",
    "    5: np.ones(train_count) * 10\n",
    "}\n",
    "\n",
    "for i in range(train_count):\n",
    "    im = Image.open(\"train/\" + getName(train_dataset, i))\n",
    "    box = getWholeBox(train_dataset, i, im)\n",
    "    if len(box[\"label\"]) > 5:\n",
    "        continue\n",
    "    im = im.crop((box[\"left\"], box[\"top\"], box[\"right\"], box[\"bottom\"])).resize((64, 64))\n",
    "    \n",
    "    X_train[i,:,:,:] = np.array(im.resize((64, 64)), dtype='float32')\n",
    "    \n",
    "    labels = box[\"label\"]\n",
    "    \n",
    "    y[0][i] = len(labels)\n",
    "    \n",
    "    for j in range(0, 5):\n",
    "        if j < len(labels):\n",
    "            if labels[j] == 10:\n",
    "                y[j+1][i] = 10\n",
    "            else:\n",
    "                y[j+1][i] = int(labels[j])\n",
    "        else:\n",
    "            y[j+1][i] = 10\n",
    "            \n",
    "    if i % 500 == 0:\n",
    "        print(i, len(y[0]))"
   ]
  },
  {
   "cell_type": "code",
   "execution_count": 20,
   "metadata": {},
   "outputs": [],
   "source": [
    "y_train = [\n",
    "    np.array(y[0]).reshape(train_count, 1),\n",
    "    np.array(y[1]).reshape(train_count, 1),\n",
    "    np.array(y[2]).reshape(train_count, 1),\n",
    "    np.array(y[3]).reshape(train_count, 1),\n",
    "    np.array(y[4]).reshape(train_count, 1),\n",
    "    np.array(y[5]).reshape(train_count, 1)\n",
    "]"
   ]
  },
  {
   "cell_type": "code",
   "execution_count": 26,
   "metadata": {},
   "outputs": [
    {
     "name": "stdout",
     "output_type": "stream",
     "text": [
      "0 13068\n",
      "500 13068\n",
      "1000 13068\n",
      "1500 13068\n",
      "2000 13068\n",
      "2500 13068\n",
      "3000 13068\n",
      "3500 13068\n",
      "4000 13068\n",
      "4500 13068\n",
      "5000 13068\n",
      "5500 13068\n",
      "6000 13068\n",
      "6500 13068\n",
      "7000 13068\n",
      "7500 13068\n",
      "8000 13068\n",
      "8500 13068\n",
      "9000 13068\n",
      "9500 13068\n",
      "10000 13068\n",
      "10500 13068\n",
      "11000 13068\n",
      "11500 13068\n",
      "12000 13068\n",
      "12500 13068\n",
      "13000 13068\n"
     ]
    }
   ],
   "source": [
    "# Load Test Data\n",
    "test_count = test_dataset[\"digitStruct\"][\"name\"].shape[0]\n",
    "\n",
    "X_test = np.ndarray(shape=(test_count, 64, 64, 3), dtype='float32')\n",
    "y = {\n",
    "    0: np.zeros(test_count),\n",
    "    1: np.ones(test_count) * 10,\n",
    "    2: np.ones(test_count) * 10,\n",
    "    3: np.ones(test_count) * 10,\n",
    "    4: np.ones(test_count) * 10,\n",
    "    5: np.ones(test_count) * 10\n",
    "}\n",
    "\n",
    "for i in range(test_count):\n",
    "    im = Image.open(\"test/\" + getName(test_dataset, i))\n",
    "    box = getWholeBox(test_dataset, i, im)\n",
    "    if len(box[\"label\"]) > 5:\n",
    "        continue\n",
    "    im = im.crop((box[\"left\"], box[\"top\"], box[\"right\"], box[\"bottom\"])).resize((64, 64))\n",
    "    \n",
    "    X_test[i,:,:,:] = np.array(im.resize((64, 64)), dtype='float32')\n",
    "    \n",
    "    labels = box[\"label\"]\n",
    "    \n",
    "    y[0][i] = len(labels)\n",
    "    \n",
    "    for j in range(0, 5):\n",
    "        if j < len(labels):\n",
    "            if labels[j] == 10:\n",
    "                y[j+1][i] = 10\n",
    "            else:\n",
    "                y[j+1][i] = int(labels[j])\n",
    "        else:\n",
    "            y[j+1][i] = 10\n",
    "            \n",
    "    if i % 500 == 0:\n",
    "        print(i, len(y[0]))\n",
    "\n",
    "y_test = [\n",
    "    np.array(y[0]).reshape(test_count, 1),\n",
    "    np.array(y[1]).reshape(test_count, 1),\n",
    "    np.array(y[2]).reshape(test_count, 1),\n",
    "    np.array(y[3]).reshape(test_count, 1),\n",
    "    np.array(y[4]).reshape(test_count, 1),\n",
    "    np.array(y[5]).reshape(test_count, 1)\n",
    "]"
   ]
  },
  {
   "cell_type": "markdown",
   "metadata": {},
   "source": [
    "## Train with Keras"
   ]
  },
  {
   "cell_type": "code",
   "execution_count": 21,
   "metadata": {},
   "outputs": [
    {
     "name": "stderr",
     "output_type": "stream",
     "text": [
      "Using TensorFlow backend.\n"
     ]
    }
   ],
   "source": [
    "from keras.layers import Activation, Input, Dense, Conv2D, MaxPool2D, Dropout, Flatten, BatchNormalization\n",
    "from keras.models import Model\n",
    "from keras.layers.merge import Concatenate\n",
    "\n",
    "\n",
    "def build_model():\n",
    "    input_ = Input(shape=(64, 64, 3))\n",
    "\n",
    "    # conv layer 1\n",
    "    model = BatchNormalization()(input_)\n",
    "    model = Conv2D(64, (7, 7), activation ='relu', padding='same')(model)\n",
    "    model = MaxPool2D(pool_size=(2, 2))(model)\n",
    "\n",
    "    # conv layer 2\n",
    "    model = BatchNormalization()(model)\n",
    "    model = Conv2D(128, (5, 5), activation ='relu', padding='valid')(model)\n",
    "    model = MaxPool2D(pool_size=(2, 2))(model)\n",
    "\n",
    "    # conv layer 3\n",
    "    model = BatchNormalization()(model)\n",
    "    model = Conv2D(256, (3, 3), activation ='relu', padding='valid')(model)\n",
    "    model = MaxPool2D(pool_size=(2, 2))(model)\n",
    "    model = Dropout(0.5)(model)\n",
    "\n",
    "    # fully connected layer\n",
    "    model = Flatten()(model)\n",
    "    model = Dense(1024, activation='relu')(model)\n",
    "    model = Dense(512, activation='relu')(model)\n",
    "\n",
    "    x1 = Dense(6,  activation='softmax')(model)\n",
    "    x2 = Dense(11, activation='softmax')(model)\n",
    "    x3 = Dense(11, activation='softmax')(model)\n",
    "    x4 = Dense(11, activation='softmax')(model)\n",
    "    x5 = Dense(11, activation='softmax')(model)\n",
    "    x6 = Dense(11, activation='softmax')(model)\n",
    "\n",
    "    x = [x1, x2, x3, x4, x5, x6]\n",
    "\n",
    "    model = Model(inputs=input_, outputs=x)\n",
    "    return model"
   ]
  },
  {
   "cell_type": "code",
   "execution_count": 22,
   "metadata": {},
   "outputs": [],
   "source": [
    "model = build_model()"
   ]
  },
  {
   "cell_type": "code",
   "execution_count": 23,
   "metadata": {},
   "outputs": [
    {
     "name": "stdout",
     "output_type": "stream",
     "text": [
      "__________________________________________________________________________________________________\n",
      "Layer (type)                    Output Shape         Param #     Connected to                     \n",
      "==================================================================================================\n",
      "input_1 (InputLayer)            (None, 64, 64, 3)    0                                            \n",
      "__________________________________________________________________________________________________\n",
      "batch_normalization_1 (BatchNor (None, 64, 64, 3)    12          input_1[0][0]                    \n",
      "__________________________________________________________________________________________________\n",
      "conv2d_1 (Conv2D)               (None, 64, 64, 64)   9472        batch_normalization_1[0][0]      \n",
      "__________________________________________________________________________________________________\n",
      "max_pooling2d_1 (MaxPooling2D)  (None, 32, 32, 64)   0           conv2d_1[0][0]                   \n",
      "__________________________________________________________________________________________________\n",
      "batch_normalization_2 (BatchNor (None, 32, 32, 64)   256         max_pooling2d_1[0][0]            \n",
      "__________________________________________________________________________________________________\n",
      "conv2d_2 (Conv2D)               (None, 28, 28, 128)  204928      batch_normalization_2[0][0]      \n",
      "__________________________________________________________________________________________________\n",
      "max_pooling2d_2 (MaxPooling2D)  (None, 14, 14, 128)  0           conv2d_2[0][0]                   \n",
      "__________________________________________________________________________________________________\n",
      "batch_normalization_3 (BatchNor (None, 14, 14, 128)  512         max_pooling2d_2[0][0]            \n",
      "__________________________________________________________________________________________________\n",
      "conv2d_3 (Conv2D)               (None, 12, 12, 256)  295168      batch_normalization_3[0][0]      \n",
      "__________________________________________________________________________________________________\n",
      "max_pooling2d_3 (MaxPooling2D)  (None, 6, 6, 256)    0           conv2d_3[0][0]                   \n",
      "__________________________________________________________________________________________________\n",
      "dropout_1 (Dropout)             (None, 6, 6, 256)    0           max_pooling2d_3[0][0]            \n",
      "__________________________________________________________________________________________________\n",
      "flatten_1 (Flatten)             (None, 9216)         0           dropout_1[0][0]                  \n",
      "__________________________________________________________________________________________________\n",
      "dense_1 (Dense)                 (None, 1024)         9438208     flatten_1[0][0]                  \n",
      "__________________________________________________________________________________________________\n",
      "dense_2 (Dense)                 (None, 512)          524800      dense_1[0][0]                    \n",
      "__________________________________________________________________________________________________\n",
      "dense_3 (Dense)                 (None, 6)            3078        dense_2[0][0]                    \n",
      "__________________________________________________________________________________________________\n",
      "dense_4 (Dense)                 (None, 11)           5643        dense_2[0][0]                    \n",
      "__________________________________________________________________________________________________\n",
      "dense_5 (Dense)                 (None, 11)           5643        dense_2[0][0]                    \n",
      "__________________________________________________________________________________________________\n",
      "dense_6 (Dense)                 (None, 11)           5643        dense_2[0][0]                    \n",
      "__________________________________________________________________________________________________\n",
      "dense_7 (Dense)                 (None, 11)           5643        dense_2[0][0]                    \n",
      "__________________________________________________________________________________________________\n",
      "dense_8 (Dense)                 (None, 11)           5643        dense_2[0][0]                    \n",
      "==================================================================================================\n",
      "Total params: 10,504,649\n",
      "Trainable params: 10,504,259\n",
      "Non-trainable params: 390\n",
      "__________________________________________________________________________________________________\n"
     ]
    }
   ],
   "source": [
    "model.summary()"
   ]
  },
  {
   "cell_type": "code",
   "execution_count": 24,
   "metadata": {},
   "outputs": [],
   "source": [
    "model.compile(loss='sparse_categorical_crossentropy',\n",
    "              optimizer=\"rmsprop\",\n",
    "              metrics=['accuracy'])"
   ]
  },
  {
   "cell_type": "code",
   "execution_count": 25,
   "metadata": {},
   "outputs": [
    {
     "name": "stdout",
     "output_type": "stream",
     "text": [
      "Epoch 1/20\n",
      "33402/33402 [==============================] - 422s 13ms/step - loss: 6.5674 - dense_3_loss: 1.0041 - dense_4_loss: 2.0259 - dense_5_loss: 2.2145 - dense_6_loss: 1.0766 - dense_7_loss: 0.2326 - dense_8_loss: 0.0138 - dense_3_acc: 0.7102 - dense_4_acc: 0.4511 - dense_5_acc: 0.3842 - dense_6_acc: 0.7515 - dense_7_acc: 0.9612 - dense_8_acc: 0.9979\n",
      "Epoch 2/20\n",
      "33402/33402 [==============================] - 411s 12ms/step - loss: 2.2886 - dense_3_loss: 0.2033 - dense_4_loss: 0.6777 - dense_5_loss: 0.7779 - dense_6_loss: 0.4972 - dense_7_loss: 0.1286 - dense_8_loss: 0.0039 - dense_3_acc: 0.9308 - dense_4_acc: 0.7873 - dense_5_acc: 0.7477 - dense_6_acc: 0.8438 - dense_7_acc: 0.9651 - dense_8_acc: 0.9998\n",
      "Epoch 3/20\n",
      "33402/33402 [==============================] - 451s 14ms/step - loss: 1.7484 - dense_3_loss: 0.1618 - dense_4_loss: 0.5204 - dense_5_loss: 0.5752 - dense_6_loss: 0.3803 - dense_7_loss: 0.1067 - dense_8_loss: 0.0039 - dense_3_acc: 0.9474 - dense_4_acc: 0.8388 - dense_5_acc: 0.8186 - dense_6_acc: 0.8803 - dense_7_acc: 0.9696 - dense_8_acc: 0.9998\n",
      "Epoch 4/20\n",
      "33402/33402 [==============================] - 423s 13ms/step - loss: 1.4942 - dense_3_loss: 0.1358 - dense_4_loss: 0.4447 - dense_5_loss: 0.4865 - dense_6_loss: 0.3286 - dense_7_loss: 0.0948 - dense_8_loss: 0.0039 - dense_3_acc: 0.9560 - dense_4_acc: 0.8642 - dense_5_acc: 0.8469 - dense_6_acc: 0.8970 - dense_7_acc: 0.9740 - dense_8_acc: 0.9998\n",
      "Epoch 5/20\n",
      "33402/33402 [==============================] - 434s 13ms/step - loss: 1.3536 - dense_3_loss: 0.1249 - dense_4_loss: 0.3996 - dense_5_loss: 0.4467 - dense_6_loss: 0.2909 - dense_7_loss: 0.0876 - dense_8_loss: 0.0039 - dense_3_acc: 0.9606 - dense_4_acc: 0.8778 - dense_5_acc: 0.8634 - dense_6_acc: 0.9115 - dense_7_acc: 0.9751 - dense_8_acc: 0.9998\n",
      "Epoch 6/20\n",
      "33402/33402 [==============================] - 421s 13ms/step - loss: 1.2636 - dense_3_loss: 0.1192 - dense_4_loss: 0.3810 - dense_5_loss: 0.4121 - dense_6_loss: 0.2682 - dense_7_loss: 0.0792 - dense_8_loss: 0.0039 - dense_3_acc: 0.9624 - dense_4_acc: 0.8847 - dense_5_acc: 0.8734 - dense_6_acc: 0.9187 - dense_7_acc: 0.9768 - dense_8_acc: 0.9998\n",
      "Epoch 7/20\n",
      "33402/33402 [==============================] - 403s 12ms/step - loss: 1.2147 - dense_3_loss: 0.1165 - dense_4_loss: 0.3614 - dense_5_loss: 0.3977 - dense_6_loss: 0.2587 - dense_7_loss: 0.0765 - dense_8_loss: 0.0039 - dense_3_acc: 0.9641 - dense_4_acc: 0.8909 - dense_5_acc: 0.8798 - dense_6_acc: 0.9229 - dense_7_acc: 0.9793 - dense_8_acc: 0.9998\n",
      "Epoch 8/20\n",
      "33402/33402 [==============================] - 399s 12ms/step - loss: 1.1757 - dense_3_loss: 0.1112 - dense_4_loss: 0.3567 - dense_5_loss: 0.3828 - dense_6_loss: 0.2461 - dense_7_loss: 0.0750 - dense_8_loss: 0.0039 - dense_3_acc: 0.9657 - dense_4_acc: 0.8950 - dense_5_acc: 0.8838 - dense_6_acc: 0.9262 - dense_7_acc: 0.9793 - dense_8_acc: 0.9998\n",
      "Epoch 9/20\n",
      "33402/33402 [==============================] - 405s 12ms/step - loss: 1.1492 - dense_3_loss: 0.1077 - dense_4_loss: 0.3505 - dense_5_loss: 0.3705 - dense_6_loss: 0.2439 - dense_7_loss: 0.0728 - dense_8_loss: 0.0039 - dense_3_acc: 0.9681 - dense_4_acc: 0.8976 - dense_5_acc: 0.8887 - dense_6_acc: 0.9273 - dense_7_acc: 0.9812 - dense_8_acc: 0.9998\n",
      "Epoch 10/20\n",
      "33402/33402 [==============================] - 412s 12ms/step - loss: 1.1603 - dense_3_loss: 0.1178 - dense_4_loss: 0.3486 - dense_5_loss: 0.3698 - dense_6_loss: 0.2466 - dense_7_loss: 0.0737 - dense_8_loss: 0.0039 - dense_3_acc: 0.9659 - dense_4_acc: 0.8991 - dense_5_acc: 0.8905 - dense_6_acc: 0.9279 - dense_7_acc: 0.9814 - dense_8_acc: 0.9998\n",
      "Epoch 11/20\n",
      "33402/33402 [==============================] - 439s 13ms/step - loss: 1.1249 - dense_3_loss: 0.1073 - dense_4_loss: 0.3415 - dense_5_loss: 0.3639 - dense_6_loss: 0.2371 - dense_7_loss: 0.0714 - dense_8_loss: 0.0039 - dense_3_acc: 0.9674 - dense_4_acc: 0.9032 - dense_5_acc: 0.8911 - dense_6_acc: 0.9307 - dense_7_acc: 0.9815 - dense_8_acc: 0.9998\n",
      "Epoch 12/20\n",
      "33402/33402 [==============================] - 413s 12ms/step - loss: 1.0965 - dense_3_loss: 0.1034 - dense_4_loss: 0.3338 - dense_5_loss: 0.3504 - dense_6_loss: 0.2351 - dense_7_loss: 0.0698 - dense_8_loss: 0.0039 - dense_3_acc: 0.9687 - dense_4_acc: 0.9040 - dense_5_acc: 0.8955 - dense_6_acc: 0.9320 - dense_7_acc: 0.9814 - dense_8_acc: 0.9998\n",
      "Epoch 13/20\n",
      "33402/33402 [==============================] - 389s 12ms/step - loss: 1.0933 - dense_3_loss: 0.1098 - dense_4_loss: 0.3358 - dense_5_loss: 0.3476 - dense_6_loss: 0.2275 - dense_7_loss: 0.0686 - dense_8_loss: 0.0039 - dense_3_acc: 0.9685 - dense_4_acc: 0.9049 - dense_5_acc: 0.8985 - dense_6_acc: 0.9319 - dense_7_acc: 0.9824 - dense_8_acc: 0.9998\n",
      "Epoch 14/20\n",
      "33402/33402 [==============================] - 413s 12ms/step - loss: 1.0744 - dense_3_loss: 0.1021 - dense_4_loss: 0.3230 - dense_5_loss: 0.3453 - dense_6_loss: 0.2311 - dense_7_loss: 0.0690 - dense_8_loss: 0.0039 - dense_3_acc: 0.9694 - dense_4_acc: 0.9077 - dense_5_acc: 0.8997 - dense_6_acc: 0.9340 - dense_7_acc: 0.9822 - dense_8_acc: 0.9998\n",
      "Epoch 15/20\n",
      "33402/33402 [==============================] - 390s 12ms/step - loss: 1.0406 - dense_3_loss: 0.1021 - dense_4_loss: 0.3192 - dense_5_loss: 0.3410 - dense_6_loss: 0.2139 - dense_7_loss: 0.0606 - dense_8_loss: 0.0039 - dense_3_acc: 0.9716 - dense_4_acc: 0.9099 - dense_5_acc: 0.9020 - dense_6_acc: 0.9375 - dense_7_acc: 0.9844 - dense_8_acc: 0.9998\n",
      "Epoch 16/20\n",
      "33402/33402 [==============================] - 389s 12ms/step - loss: 1.0265 - dense_3_loss: 0.0984 - dense_4_loss: 0.3073 - dense_5_loss: 0.3302 - dense_6_loss: 0.2203 - dense_7_loss: 0.0665 - dense_8_loss: 0.0039 - dense_3_acc: 0.9715 - dense_4_acc: 0.9105 - dense_5_acc: 0.9037 - dense_6_acc: 0.9373 - dense_7_acc: 0.9829 - dense_8_acc: 0.9998\n",
      "Epoch 17/20\n",
      "33402/33402 [==============================] - 405s 12ms/step - loss: 1.0040 - dense_3_loss: 0.0964 - dense_4_loss: 0.3058 - dense_5_loss: 0.3229 - dense_6_loss: 0.2139 - dense_7_loss: 0.0611 - dense_8_loss: 0.0039 - dense_3_acc: 0.9722 - dense_4_acc: 0.9125 - dense_5_acc: 0.9040 - dense_6_acc: 0.9393 - dense_7_acc: 0.9844 - dense_8_acc: 0.9998\n",
      "Epoch 18/20\n",
      "33402/33402 [==============================] - 389s 12ms/step - loss: 0.9862 - dense_3_loss: 0.0956 - dense_4_loss: 0.3040 - dense_5_loss: 0.3136 - dense_6_loss: 0.2036 - dense_7_loss: 0.0655 - dense_8_loss: 0.0039 - dense_3_acc: 0.9714 - dense_4_acc: 0.9137 - dense_5_acc: 0.9099 - dense_6_acc: 0.9412 - dense_7_acc: 0.9839 - dense_8_acc: 0.9998\n",
      "Epoch 19/20\n",
      "33402/33402 [==============================] - 389s 12ms/step - loss: 0.9748 - dense_3_loss: 0.0936 - dense_4_loss: 0.3027 - dense_5_loss: 0.3114 - dense_6_loss: 0.2034 - dense_7_loss: 0.0598 - dense_8_loss: 0.0039 - dense_3_acc: 0.9730 - dense_4_acc: 0.9161 - dense_5_acc: 0.9093 - dense_6_acc: 0.9411 - dense_7_acc: 0.9842 - dense_8_acc: 0.9998\n",
      "Epoch 20/20\n",
      "33402/33402 [==============================] - 388s 12ms/step - loss: 0.9519 - dense_3_loss: 0.0936 - dense_4_loss: 0.2863 - dense_5_loss: 0.3064 - dense_6_loss: 0.1995 - dense_7_loss: 0.0622 - dense_8_loss: 0.0039 - dense_3_acc: 0.9733 - dense_4_acc: 0.9177 - dense_5_acc: 0.9116 - dense_6_acc: 0.9419 - dense_7_acc: 0.9847 - dense_8_acc: 0.9998\n"
     ]
    },
    {
     "data": {
      "text/plain": [
       "<keras.callbacks.History at 0x7f15b4675e10>"
      ]
     },
     "execution_count": 25,
     "metadata": {},
     "output_type": "execute_result"
    }
   ],
   "source": [
    "model.fit(X_train, y_train, batch_size=64, epochs=20)"
   ]
  },
  {
   "cell_type": "code",
   "execution_count": 28,
   "metadata": {},
   "outputs": [
    {
     "name": "stdout",
     "output_type": "stream",
     "text": [
      "13068/13068 [==============================] - 39s 3ms/step\n"
     ]
    }
   ],
   "source": [
    "res = model.evaluate(X_test, y_test)"
   ]
  },
  {
   "cell_type": "code",
   "execution_count": 33,
   "metadata": {},
   "outputs": [
    {
     "data": {
      "text/plain": [
       "[0.959366391184573,\n",
       " 0.8842975206794015,\n",
       " 0.8696816651362106,\n",
       " 0.9516375880194688,\n",
       " 0.9941842669115396,\n",
       " 0.9999234771962044]"
      ]
     },
     "execution_count": 33,
     "metadata": {},
     "output_type": "execute_result"
    }
   ],
   "source": [
    "res[7:]"
   ]
  }
 ],
 "metadata": {
  "kernelspec": {
   "display_name": "Python 3",
   "language": "python",
   "name": "python3"
  },
  "language_info": {
   "codemirror_mode": {
    "name": "ipython",
    "version": 3
   },
   "file_extension": ".py",
   "mimetype": "text/x-python",
   "name": "python",
   "nbconvert_exporter": "python",
   "pygments_lexer": "ipython3",
   "version": "3.6.5"
  }
 },
 "nbformat": 4,
 "nbformat_minor": 2
}
